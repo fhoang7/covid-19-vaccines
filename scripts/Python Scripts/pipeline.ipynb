{
 "cells": [
  {
   "cell_type": "code",
   "execution_count": 1,
   "id": "retired-wrong",
   "metadata": {},
   "outputs": [
    {
     "name": "stdout",
     "output_type": "stream",
     "text": [
      "Requirement already satisfied: kaggle in c:\\users\\frank\\anaconda3\\lib\\site-packages (1.5.12)\n",
      "Requirement already satisfied: certifi in c:\\users\\frank\\anaconda3\\lib\\site-packages (from kaggle) (2020.12.5)\n",
      "Requirement already satisfied: six>=1.10 in c:\\users\\frank\\anaconda3\\lib\\site-packages (from kaggle) (1.15.0)\n",
      "Requirement already satisfied: python-dateutil in c:\\users\\frank\\anaconda3\\lib\\site-packages (from kaggle) (2.8.1)\n",
      "Requirement already satisfied: urllib3 in c:\\users\\frank\\anaconda3\\lib\\site-packages (from kaggle) (1.26.3)\n",
      "Requirement already satisfied: requests in c:\\users\\frank\\anaconda3\\lib\\site-packages (from kaggle) (2.25.1)\n",
      "Requirement already satisfied: tqdm in c:\\users\\frank\\anaconda3\\lib\\site-packages (from kaggle) (4.56.0)\n",
      "Requirement already satisfied: python-slugify in c:\\users\\frank\\anaconda3\\lib\\site-packages (from kaggle) (4.0.1)\n",
      "Requirement already satisfied: text-unidecode>=1.3 in c:\\users\\frank\\anaconda3\\lib\\site-packages (from python-slugify->kaggle) (1.3)\n",
      "Requirement already satisfied: chardet<5,>=3.0.2 in c:\\users\\frank\\anaconda3\\lib\\site-packages (from requests->kaggle) (4.0.0)\n",
      "Requirement already satisfied: idna<3,>=2.5 in c:\\users\\frank\\anaconda3\\lib\\site-packages (from requests->kaggle) (2.10)\n",
      "Requirement already satisfied: python-dotenv in c:\\users\\frank\\anaconda3\\lib\\site-packages (0.15.0)\n",
      "covid-world-vaccination-progress.zip: Skipping, found more recently modified local copy (use --force to force download)\n",
      "[]\n"
     ]
    }
   ],
   "source": [
    "! ipython data_download.py\n",
    "! ipython data_cleaning.py"
   ]
  },
  {
   "cell_type": "code",
   "execution_count": null,
   "id": "vulnerable-underwear",
   "metadata": {},
   "outputs": [],
   "source": []
  }
 ],
 "metadata": {
  "kernelspec": {
   "display_name": "Python 3",
   "language": "python",
   "name": "python3"
  },
  "language_info": {
   "codemirror_mode": {
    "name": "ipython",
    "version": 3
   },
   "file_extension": ".py",
   "mimetype": "text/x-python",
   "name": "python",
   "nbconvert_exporter": "python",
   "pygments_lexer": "ipython3",
   "version": "3.8.3"
  }
 },
 "nbformat": 4,
 "nbformat_minor": 5
}
