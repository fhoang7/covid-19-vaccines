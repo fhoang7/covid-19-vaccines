{
 "cells": [
  {
   "cell_type": "code",
   "execution_count": 1,
   "id": "hazardous-scanner",
   "metadata": {},
   "outputs": [
    {
     "name": "stdout",
     "output_type": "stream",
     "text": [
      "Requirement already satisfied: kaggle in c:\\users\\frank\\anaconda3\\lib\\site-packages (1.5.12)\n",
      "Requirement already satisfied: python-dateutil in c:\\users\\frank\\anaconda3\\lib\\site-packages (from kaggle) (2.8.1)\n",
      "Requirement already satisfied: python-slugify in c:\\users\\frank\\anaconda3\\lib\\site-packages (from kaggle) (4.0.1)\n",
      "Requirement already satisfied: tqdm in c:\\users\\frank\\anaconda3\\lib\\site-packages (from kaggle) (4.56.0)\n",
      "Requirement already satisfied: six>=1.10 in c:\\users\\frank\\anaconda3\\lib\\site-packages (from kaggle) (1.15.0)\n",
      "Requirement already satisfied: requests in c:\\users\\frank\\anaconda3\\lib\\site-packages (from kaggle) (2.25.1)\n",
      "Requirement already satisfied: urllib3 in c:\\users\\frank\\anaconda3\\lib\\site-packages (from kaggle) (1.26.3)\n",
      "Requirement already satisfied: certifi in c:\\users\\frank\\anaconda3\\lib\\site-packages (from kaggle) (2020.12.5)\n",
      "Requirement already satisfied: text-unidecode>=1.3 in c:\\users\\frank\\anaconda3\\lib\\site-packages (from python-slugify->kaggle) (1.3)\n",
      "Requirement already satisfied: chardet<5,>=3.0.2 in c:\\users\\frank\\anaconda3\\lib\\site-packages (from requests->kaggle) (4.0.0)\n",
      "Requirement already satisfied: idna<3,>=2.5 in c:\\users\\frank\\anaconda3\\lib\\site-packages (from requests->kaggle) (2.10)\n"
     ]
    }
   ],
   "source": [
    "!pip install kaggle"
   ]
  },
  {
   "cell_type": "code",
   "execution_count": 2,
   "id": "handmade-pixel",
   "metadata": {},
   "outputs": [
    {
     "name": "stdout",
     "output_type": "stream",
     "text": [
      "env: KAGGLE_USERNAME=dataminer619\n",
      "env: KAGGLE_KEY=625bb58674207412c9ca826d41f781db\n"
     ]
    }
   ],
   "source": [
    "%env KAGGLE_USERNAME=dataminer619\n",
    "%env KAGGLE_KEY=625bb58674207412c9ca826d41f781db"
   ]
  },
  {
   "cell_type": "code",
   "execution_count": 3,
   "id": "proved-sudan",
   "metadata": {},
   "outputs": [
    {
     "name": "stdout",
     "output_type": "stream",
     "text": [
      "Downloading covid-world-vaccination-progress.zip to C:\\Users\\frank\\OneDrive\\Documents\\Data Projects\\covid-19-vaccines\\scripts\n",
      "\n"
     ]
    },
    {
     "name": "stderr",
     "output_type": "stream",
     "text": [
      "\n",
      "  0%|          | 0.00/168k [00:00<?, ?B/s]\n",
      "100%|##########| 168k/168k [00:00<00:00, 2.74MB/s]\n"
     ]
    }
   ],
   "source": [
    "!kaggle datasets download -d gpreda/covid-world-vaccination-progress"
   ]
  },
  {
   "cell_type": "code",
   "execution_count": 6,
   "id": "alert-brass",
   "metadata": {},
   "outputs": [],
   "source": [
    "import zipfile as zf\n",
    "files = zf.ZipFile(\"covid-world-vaccination-progress.zip\", 'r')\n",
    "files.extractall('../data')\n",
    "files.close()"
   ]
  }
 ],
 "metadata": {
  "kernelspec": {
   "display_name": "Python 3",
   "language": "python",
   "name": "python3"
  },
  "language_info": {
   "codemirror_mode": {
    "name": "ipython",
    "version": 3
   },
   "file_extension": ".py",
   "mimetype": "text/x-python",
   "name": "python",
   "nbconvert_exporter": "python",
   "pygments_lexer": "ipython3",
   "version": "3.8.3"
  }
 },
 "nbformat": 4,
 "nbformat_minor": 5
}
