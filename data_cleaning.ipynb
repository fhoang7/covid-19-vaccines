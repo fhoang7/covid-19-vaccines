{
 "cells": [
  {
   "cell_type": "markdown",
   "id": "first-transcript",
   "metadata": {},
   "source": [
    "## Libraries"
   ]
  },
  {
   "cell_type": "code",
   "execution_count": 3,
   "id": "portuguese-appeal",
   "metadata": {},
   "outputs": [],
   "source": [
    "import pandas as pd"
   ]
  },
  {
   "cell_type": "markdown",
   "id": "advanced-trinidad",
   "metadata": {},
   "source": [
    "## Read in Data and display info about the data"
   ]
  },
  {
   "cell_type": "code",
   "execution_count": 9,
   "id": "false-security",
   "metadata": {},
   "outputs": [
    {
     "name": "stdout",
     "output_type": "stream",
     "text": [
      "['country', 'iso_code', 'date', 'total_vaccinations', 'people_vaccinated', 'people_fully_vaccinated', 'daily_vaccinations_raw', 'daily_vaccinations', 'total_vaccinations_per_hundred', 'people_vaccinated_per_hundred', 'people_fully_vaccinated_per_hundred', 'daily_vaccinations_per_million', 'vaccines', 'source_name', 'source_website']\n"
     ]
    },
    {
     "data": {
      "text/html": [
       "<div>\n",
       "<style scoped>\n",
       "    .dataframe tbody tr th:only-of-type {\n",
       "        vertical-align: middle;\n",
       "    }\n",
       "\n",
       "    .dataframe tbody tr th {\n",
       "        vertical-align: top;\n",
       "    }\n",
       "\n",
       "    .dataframe thead th {\n",
       "        text-align: right;\n",
       "    }\n",
       "</style>\n",
       "<table border=\"1\" class=\"dataframe\">\n",
       "  <thead>\n",
       "    <tr style=\"text-align: right;\">\n",
       "      <th></th>\n",
       "      <th>country</th>\n",
       "      <th>iso_code</th>\n",
       "      <th>date</th>\n",
       "      <th>total_vaccinations</th>\n",
       "      <th>people_vaccinated</th>\n",
       "      <th>people_fully_vaccinated</th>\n",
       "      <th>daily_vaccinations_raw</th>\n",
       "      <th>daily_vaccinations</th>\n",
       "      <th>total_vaccinations_per_hundred</th>\n",
       "      <th>people_vaccinated_per_hundred</th>\n",
       "      <th>people_fully_vaccinated_per_hundred</th>\n",
       "      <th>daily_vaccinations_per_million</th>\n",
       "      <th>vaccines</th>\n",
       "      <th>source_name</th>\n",
       "      <th>source_website</th>\n",
       "    </tr>\n",
       "  </thead>\n",
       "  <tbody>\n",
       "    <tr>\n",
       "      <th>0</th>\n",
       "      <td>Albania</td>\n",
       "      <td>ALB</td>\n",
       "      <td>2021-01-10</td>\n",
       "      <td>0.0</td>\n",
       "      <td>0.0</td>\n",
       "      <td>NaN</td>\n",
       "      <td>NaN</td>\n",
       "      <td>NaN</td>\n",
       "      <td>0.00</td>\n",
       "      <td>0.00</td>\n",
       "      <td>NaN</td>\n",
       "      <td>NaN</td>\n",
       "      <td>Pfizer/BioNTech</td>\n",
       "      <td>Ministry of Health</td>\n",
       "      <td>https://shendetesia.gov.al/covid19-ministria-e...</td>\n",
       "    </tr>\n",
       "    <tr>\n",
       "      <th>1</th>\n",
       "      <td>Albania</td>\n",
       "      <td>ALB</td>\n",
       "      <td>2021-01-11</td>\n",
       "      <td>NaN</td>\n",
       "      <td>NaN</td>\n",
       "      <td>NaN</td>\n",
       "      <td>NaN</td>\n",
       "      <td>64.0</td>\n",
       "      <td>NaN</td>\n",
       "      <td>NaN</td>\n",
       "      <td>NaN</td>\n",
       "      <td>22.0</td>\n",
       "      <td>Pfizer/BioNTech</td>\n",
       "      <td>Ministry of Health</td>\n",
       "      <td>https://shendetesia.gov.al/covid19-ministria-e...</td>\n",
       "    </tr>\n",
       "    <tr>\n",
       "      <th>2</th>\n",
       "      <td>Albania</td>\n",
       "      <td>ALB</td>\n",
       "      <td>2021-01-12</td>\n",
       "      <td>128.0</td>\n",
       "      <td>128.0</td>\n",
       "      <td>NaN</td>\n",
       "      <td>NaN</td>\n",
       "      <td>64.0</td>\n",
       "      <td>0.00</td>\n",
       "      <td>0.00</td>\n",
       "      <td>NaN</td>\n",
       "      <td>22.0</td>\n",
       "      <td>Pfizer/BioNTech</td>\n",
       "      <td>Ministry of Health</td>\n",
       "      <td>https://shendetesia.gov.al/covid19-ministria-e...</td>\n",
       "    </tr>\n",
       "    <tr>\n",
       "      <th>3</th>\n",
       "      <td>Albania</td>\n",
       "      <td>ALB</td>\n",
       "      <td>2021-01-13</td>\n",
       "      <td>188.0</td>\n",
       "      <td>188.0</td>\n",
       "      <td>NaN</td>\n",
       "      <td>60.0</td>\n",
       "      <td>63.0</td>\n",
       "      <td>0.01</td>\n",
       "      <td>0.01</td>\n",
       "      <td>NaN</td>\n",
       "      <td>22.0</td>\n",
       "      <td>Pfizer/BioNTech</td>\n",
       "      <td>Ministry of Health</td>\n",
       "      <td>https://shendetesia.gov.al/covid19-ministria-e...</td>\n",
       "    </tr>\n",
       "    <tr>\n",
       "      <th>4</th>\n",
       "      <td>Albania</td>\n",
       "      <td>ALB</td>\n",
       "      <td>2021-01-14</td>\n",
       "      <td>266.0</td>\n",
       "      <td>266.0</td>\n",
       "      <td>NaN</td>\n",
       "      <td>78.0</td>\n",
       "      <td>66.0</td>\n",
       "      <td>0.01</td>\n",
       "      <td>0.01</td>\n",
       "      <td>NaN</td>\n",
       "      <td>23.0</td>\n",
       "      <td>Pfizer/BioNTech</td>\n",
       "      <td>Ministry of Health</td>\n",
       "      <td>https://shendetesia.gov.al/covid19-ministria-e...</td>\n",
       "    </tr>\n",
       "  </tbody>\n",
       "</table>\n",
       "</div>"
      ],
      "text/plain": [
       "   country iso_code        date  total_vaccinations  people_vaccinated  \\\n",
       "0  Albania      ALB  2021-01-10                 0.0                0.0   \n",
       "1  Albania      ALB  2021-01-11                 NaN                NaN   \n",
       "2  Albania      ALB  2021-01-12               128.0              128.0   \n",
       "3  Albania      ALB  2021-01-13               188.0              188.0   \n",
       "4  Albania      ALB  2021-01-14               266.0              266.0   \n",
       "\n",
       "   people_fully_vaccinated  daily_vaccinations_raw  daily_vaccinations  \\\n",
       "0                      NaN                     NaN                 NaN   \n",
       "1                      NaN                     NaN                64.0   \n",
       "2                      NaN                     NaN                64.0   \n",
       "3                      NaN                    60.0                63.0   \n",
       "4                      NaN                    78.0                66.0   \n",
       "\n",
       "   total_vaccinations_per_hundred  people_vaccinated_per_hundred  \\\n",
       "0                            0.00                           0.00   \n",
       "1                             NaN                            NaN   \n",
       "2                            0.00                           0.00   \n",
       "3                            0.01                           0.01   \n",
       "4                            0.01                           0.01   \n",
       "\n",
       "   people_fully_vaccinated_per_hundred  daily_vaccinations_per_million  \\\n",
       "0                                  NaN                             NaN   \n",
       "1                                  NaN                            22.0   \n",
       "2                                  NaN                            22.0   \n",
       "3                                  NaN                            22.0   \n",
       "4                                  NaN                            23.0   \n",
       "\n",
       "          vaccines         source_name  \\\n",
       "0  Pfizer/BioNTech  Ministry of Health   \n",
       "1  Pfizer/BioNTech  Ministry of Health   \n",
       "2  Pfizer/BioNTech  Ministry of Health   \n",
       "3  Pfizer/BioNTech  Ministry of Health   \n",
       "4  Pfizer/BioNTech  Ministry of Health   \n",
       "\n",
       "                                      source_website  \n",
       "0  https://shendetesia.gov.al/covid19-ministria-e...  \n",
       "1  https://shendetesia.gov.al/covid19-ministria-e...  \n",
       "2  https://shendetesia.gov.al/covid19-ministria-e...  \n",
       "3  https://shendetesia.gov.al/covid19-ministria-e...  \n",
       "4  https://shendetesia.gov.al/covid19-ministria-e...  "
      ]
     },
     "execution_count": 9,
     "metadata": {},
     "output_type": "execute_result"
    }
   ],
   "source": [
    "data = pd.read_csv('country_vaccinations.csv')\n",
    "print(list(data))\n",
    "data.head()"
   ]
  },
  {
   "cell_type": "code",
   "execution_count": 12,
   "id": "quick-metropolitan",
   "metadata": {},
   "outputs": [
    {
     "data": {
      "text/plain": [
       "country                                 object\n",
       "iso_code                                object\n",
       "date                                    object\n",
       "total_vaccinations                     float64\n",
       "people_vaccinated                      float64\n",
       "people_fully_vaccinated                float64\n",
       "daily_vaccinations_raw                 float64\n",
       "daily_vaccinations                     float64\n",
       "total_vaccinations_per_hundred         float64\n",
       "people_vaccinated_per_hundred          float64\n",
       "people_fully_vaccinated_per_hundred    float64\n",
       "daily_vaccinations_per_million         float64\n",
       "vaccines                                object\n",
       "source_name                             object\n",
       "source_website                          object\n",
       "dtype: object"
      ]
     },
     "execution_count": 12,
     "metadata": {},
     "output_type": "execute_result"
    }
   ],
   "source": [
    "data.dtypes"
   ]
  },
  {
   "cell_type": "markdown",
   "id": "resistant-belarus",
   "metadata": {},
   "source": [
    "## Data Completeness"
   ]
  },
  {
   "cell_type": "markdown",
   "id": "experimental-length",
   "metadata": {},
   "source": [
    "The code below shows that almost every column in the dataframe is missing data values. "
   ]
  },
  {
   "cell_type": "code",
   "execution_count": 14,
   "id": "cosmetic-reserve",
   "metadata": {},
   "outputs": [
    {
     "data": {
      "text/plain": [
       "country                                   0\n",
       "iso_code                                332\n",
       "date                                      0\n",
       "total_vaccinations                     1937\n",
       "people_vaccinated                      2331\n",
       "people_fully_vaccinated                3282\n",
       "daily_vaccinations_raw                 2476\n",
       "daily_vaccinations                      184\n",
       "total_vaccinations_per_hundred         1937\n",
       "people_vaccinated_per_hundred          2331\n",
       "people_fully_vaccinated_per_hundred    3282\n",
       "daily_vaccinations_per_million          184\n",
       "vaccines                                  0\n",
       "source_name                               6\n",
       "source_website                            0\n",
       "dtype: int64"
      ]
     },
     "execution_count": 14,
     "metadata": {},
     "output_type": "execute_result"
    }
   ],
   "source": [
    "data.isnull().sum()"
   ]
  },
  {
   "cell_type": "markdown",
   "id": "disciplinary-curtis",
   "metadata": {},
   "source": [
    "### Qualitative Variables (ISO_Code & Source_Name) Missing Values"
   ]
  },
  {
   "cell_type": "markdown",
   "id": "changed-hardware",
   "metadata": {},
   "source": [
    "The ISO_code which is an abbreviation of the country name is missing, so let's see which countries are missing these values."
   ]
  },
  {
   "cell_type": "code",
   "execution_count": 32,
   "id": "combined-merchandise",
   "metadata": {},
   "outputs": [
    {
     "name": "stdout",
     "output_type": "stream",
     "text": [
      "['England', 'Northern Ireland', 'Scotland', 'Wales']\n"
     ]
    }
   ],
   "source": [
    "missing_iso_countries = list(data[data['iso_code'].isna()]['country'].unique())\n",
    "print(missing_iso_countries)"
   ]
  },
  {
   "cell_type": "markdown",
   "id": "israeli-frost",
   "metadata": {},
   "source": [
    "For the countries that have missing values, does the dataframe contain any rows that contain the corresponding ISO values?"
   ]
  },
  {
   "cell_type": "code",
   "execution_count": 35,
   "id": "juvenile-graphic",
   "metadata": {},
   "outputs": [
    {
     "name": "stdout",
     "output_type": "stream",
     "text": [
      "England 0\n",
      "Northern Ireland 0\n",
      "Scotland 0\n",
      "Wales 0\n"
     ]
    }
   ],
   "source": [
    "for country in missing_iso_countries:\n",
    "    print(country, data[data['country'] == country]['iso_code'].notna().sum())"
   ]
  },
  {
   "cell_type": "markdown",
   "id": "fifteen-mercury",
   "metadata": {},
   "source": [
    "After doing some digging on the internet, I found out that England, Northern Ireland, Scotland, and Wales are collectively referred to as the United Kingdom, so we need to confirm if the current UK vaccination numbers are the proper summation of the vaccinations reported separately for England, Northern Ireland, Scotland, and wales. If yes, we can drop the England/Northern Ireland/Scotland/Wales rows as they are repetitive values. If no, we can either adjust to the United Kingdom numbers to match the true values, or drop the United Kingdom and use the separate regions' numbers. "
   ]
  },
  {
   "cell_type": "code",
   "execution_count": 40,
   "id": "reserved-cotton",
   "metadata": {},
   "outputs": [],
   "source": [
    "uk_data = data[data['country'] == 'United Kingdom']\n",
    "eng_data = data[data['country'] == 'England']\n",
    "ni_data = data[data['country'] == 'Northern Ireland']\n",
    "scot_data = data[data['country'] == 'Scotland']\n",
    "wales_data = data[data['country'] == 'Wales']"
   ]
  },
  {
   "cell_type": "code",
   "execution_count": 42,
   "id": "sustainable-fleece",
   "metadata": {},
   "outputs": [
    {
     "data": {
      "text/plain": [
       "21898050.0"
      ]
     },
     "execution_count": 42,
     "metadata": {},
     "output_type": "execute_result"
    }
   ],
   "source": [
    "uk_data['daily_vaccinations'].sum() "
   ]
  },
  {
   "cell_type": "code",
   "execution_count": 43,
   "id": "sharing-inspector",
   "metadata": {},
   "outputs": [
    {
     "data": {
      "text/plain": [
       "21898043.0"
      ]
     },
     "execution_count": 43,
     "metadata": {},
     "output_type": "execute_result"
    }
   ],
   "source": [
    "eng_data['daily_vaccinations'].sum() + ni_data['daily_vaccinations'].sum() + scot_data['daily_vaccinations'].sum() + wales_data['daily_vaccinations'].sum()   "
   ]
  },
  {
   "cell_type": "markdown",
   "id": "sorted-weekly",
   "metadata": {},
   "source": [
    "The numbers are pretty close minus some missing values, so we can utilize the United Kingdom numbers. "
   ]
  },
  {
   "cell_type": "code",
   "execution_count": 59,
   "id": "inclusive-moderator",
   "metadata": {},
   "outputs": [],
   "source": [
    "drop_countries_indices = data[(data['country'] == 'England') | (data['country'] == 'Northern Ireland') | (data['country'] == 'Wales') | (data['country'] == 'Scotland')].index\n",
    "data.drop(drop_countries_indices, inplace = True) "
   ]
  },
  {
   "cell_type": "markdown",
   "id": "lyric-choir",
   "metadata": {},
   "source": [
    "I have know resolved the missing values in the ISO_Code column. Now let's look at the other qualitative column: Source_name"
   ]
  },
  {
   "cell_type": "code",
   "execution_count": 60,
   "id": "incoming-lunch",
   "metadata": {},
   "outputs": [
    {
     "data": {
      "text/plain": [
       "country                                   0\n",
       "iso_code                                  0\n",
       "date                                      0\n",
       "total_vaccinations                     1839\n",
       "people_vaccinated                      2233\n",
       "people_fully_vaccinated                3172\n",
       "daily_vaccinations_raw                 2357\n",
       "daily_vaccinations                      180\n",
       "total_vaccinations_per_hundred         1839\n",
       "people_vaccinated_per_hundred          2233\n",
       "people_fully_vaccinated_per_hundred    3172\n",
       "daily_vaccinations_per_million          180\n",
       "vaccines                                  0\n",
       "source_name                               6\n",
       "source_website                            0\n",
       "dtype: int64"
      ]
     },
     "execution_count": 60,
     "metadata": {},
     "output_type": "execute_result"
    }
   ],
   "source": [
    "data.isnull().sum()"
   ]
  },
  {
   "cell_type": "code",
   "execution_count": 63,
   "id": "specialized-liability",
   "metadata": {},
   "outputs": [
    {
     "data": {
      "text/html": [
       "<div>\n",
       "<style scoped>\n",
       "    .dataframe tbody tr th:only-of-type {\n",
       "        vertical-align: middle;\n",
       "    }\n",
       "\n",
       "    .dataframe tbody tr th {\n",
       "        vertical-align: top;\n",
       "    }\n",
       "\n",
       "    .dataframe thead th {\n",
       "        text-align: right;\n",
       "    }\n",
       "</style>\n",
       "<table border=\"1\" class=\"dataframe\">\n",
       "  <thead>\n",
       "    <tr style=\"text-align: right;\">\n",
       "      <th></th>\n",
       "      <th>country</th>\n",
       "      <th>iso_code</th>\n",
       "      <th>date</th>\n",
       "      <th>total_vaccinations</th>\n",
       "      <th>people_vaccinated</th>\n",
       "      <th>people_fully_vaccinated</th>\n",
       "      <th>daily_vaccinations_raw</th>\n",
       "      <th>daily_vaccinations</th>\n",
       "      <th>total_vaccinations_per_hundred</th>\n",
       "      <th>people_vaccinated_per_hundred</th>\n",
       "      <th>people_fully_vaccinated_per_hundred</th>\n",
       "      <th>daily_vaccinations_per_million</th>\n",
       "      <th>vaccines</th>\n",
       "      <th>source_name</th>\n",
       "      <th>source_website</th>\n",
       "    </tr>\n",
       "  </thead>\n",
       "  <tbody>\n",
       "    <tr>\n",
       "      <th>571</th>\n",
       "      <td>Belize</td>\n",
       "      <td>BLZ</td>\n",
       "      <td>2021-02-28</td>\n",
       "      <td>0.0</td>\n",
       "      <td>0.0</td>\n",
       "      <td>NaN</td>\n",
       "      <td>NaN</td>\n",
       "      <td>NaN</td>\n",
       "      <td>0.00</td>\n",
       "      <td>0.00</td>\n",
       "      <td>NaN</td>\n",
       "      <td>NaN</td>\n",
       "      <td>Oxford/AstraZeneca</td>\n",
       "      <td>NaN</td>\n",
       "      <td>https://www.facebook.com/1410454029253008/post...</td>\n",
       "    </tr>\n",
       "    <tr>\n",
       "      <th>572</th>\n",
       "      <td>Belize</td>\n",
       "      <td>BLZ</td>\n",
       "      <td>2021-03-01</td>\n",
       "      <td>NaN</td>\n",
       "      <td>NaN</td>\n",
       "      <td>NaN</td>\n",
       "      <td>NaN</td>\n",
       "      <td>208.0</td>\n",
       "      <td>NaN</td>\n",
       "      <td>NaN</td>\n",
       "      <td>NaN</td>\n",
       "      <td>523.0</td>\n",
       "      <td>Oxford/AstraZeneca</td>\n",
       "      <td>NaN</td>\n",
       "      <td>https://www.facebook.com/1410454029253008/post...</td>\n",
       "    </tr>\n",
       "    <tr>\n",
       "      <th>573</th>\n",
       "      <td>Belize</td>\n",
       "      <td>BLZ</td>\n",
       "      <td>2021-03-02</td>\n",
       "      <td>417.0</td>\n",
       "      <td>417.0</td>\n",
       "      <td>NaN</td>\n",
       "      <td>NaN</td>\n",
       "      <td>208.0</td>\n",
       "      <td>0.10</td>\n",
       "      <td>0.10</td>\n",
       "      <td>NaN</td>\n",
       "      <td>523.0</td>\n",
       "      <td>Oxford/AstraZeneca</td>\n",
       "      <td>NaN</td>\n",
       "      <td>https://www.facebook.com/1410454029253008/post...</td>\n",
       "    </tr>\n",
       "    <tr>\n",
       "      <th>574</th>\n",
       "      <td>Belize</td>\n",
       "      <td>BLZ</td>\n",
       "      <td>2021-03-03</td>\n",
       "      <td>673.0</td>\n",
       "      <td>673.0</td>\n",
       "      <td>NaN</td>\n",
       "      <td>256.0</td>\n",
       "      <td>224.0</td>\n",
       "      <td>0.17</td>\n",
       "      <td>0.17</td>\n",
       "      <td>NaN</td>\n",
       "      <td>563.0</td>\n",
       "      <td>Oxford/AstraZeneca</td>\n",
       "      <td>NaN</td>\n",
       "      <td>https://www.facebook.com/1410454029253008/post...</td>\n",
       "    </tr>\n",
       "    <tr>\n",
       "      <th>575</th>\n",
       "      <td>Belize</td>\n",
       "      <td>BLZ</td>\n",
       "      <td>2021-03-04</td>\n",
       "      <td>817.0</td>\n",
       "      <td>817.0</td>\n",
       "      <td>NaN</td>\n",
       "      <td>144.0</td>\n",
       "      <td>204.0</td>\n",
       "      <td>0.21</td>\n",
       "      <td>0.21</td>\n",
       "      <td>NaN</td>\n",
       "      <td>513.0</td>\n",
       "      <td>Oxford/AstraZeneca</td>\n",
       "      <td>NaN</td>\n",
       "      <td>https://www.facebook.com/1410454029253008/post...</td>\n",
       "    </tr>\n",
       "    <tr>\n",
       "      <th>576</th>\n",
       "      <td>Belize</td>\n",
       "      <td>BLZ</td>\n",
       "      <td>2021-03-05</td>\n",
       "      <td>996.0</td>\n",
       "      <td>996.0</td>\n",
       "      <td>NaN</td>\n",
       "      <td>179.0</td>\n",
       "      <td>199.0</td>\n",
       "      <td>0.25</td>\n",
       "      <td>0.25</td>\n",
       "      <td>NaN</td>\n",
       "      <td>500.0</td>\n",
       "      <td>Oxford/AstraZeneca</td>\n",
       "      <td>NaN</td>\n",
       "      <td>https://www.facebook.com/1410454029253008/post...</td>\n",
       "    </tr>\n",
       "  </tbody>\n",
       "</table>\n",
       "</div>"
      ],
      "text/plain": [
       "    country iso_code        date  total_vaccinations  people_vaccinated  \\\n",
       "571  Belize      BLZ  2021-02-28                 0.0                0.0   \n",
       "572  Belize      BLZ  2021-03-01                 NaN                NaN   \n",
       "573  Belize      BLZ  2021-03-02               417.0              417.0   \n",
       "574  Belize      BLZ  2021-03-03               673.0              673.0   \n",
       "575  Belize      BLZ  2021-03-04               817.0              817.0   \n",
       "576  Belize      BLZ  2021-03-05               996.0              996.0   \n",
       "\n",
       "     people_fully_vaccinated  daily_vaccinations_raw  daily_vaccinations  \\\n",
       "571                      NaN                     NaN                 NaN   \n",
       "572                      NaN                     NaN               208.0   \n",
       "573                      NaN                     NaN               208.0   \n",
       "574                      NaN                   256.0               224.0   \n",
       "575                      NaN                   144.0               204.0   \n",
       "576                      NaN                   179.0               199.0   \n",
       "\n",
       "     total_vaccinations_per_hundred  people_vaccinated_per_hundred  \\\n",
       "571                            0.00                           0.00   \n",
       "572                             NaN                            NaN   \n",
       "573                            0.10                           0.10   \n",
       "574                            0.17                           0.17   \n",
       "575                            0.21                           0.21   \n",
       "576                            0.25                           0.25   \n",
       "\n",
       "     people_fully_vaccinated_per_hundred  daily_vaccinations_per_million  \\\n",
       "571                                  NaN                             NaN   \n",
       "572                                  NaN                           523.0   \n",
       "573                                  NaN                           523.0   \n",
       "574                                  NaN                           563.0   \n",
       "575                                  NaN                           513.0   \n",
       "576                                  NaN                           500.0   \n",
       "\n",
       "               vaccines source_name  \\\n",
       "571  Oxford/AstraZeneca         NaN   \n",
       "572  Oxford/AstraZeneca         NaN   \n",
       "573  Oxford/AstraZeneca         NaN   \n",
       "574  Oxford/AstraZeneca         NaN   \n",
       "575  Oxford/AstraZeneca         NaN   \n",
       "576  Oxford/AstraZeneca         NaN   \n",
       "\n",
       "                                        source_website  \n",
       "571  https://www.facebook.com/1410454029253008/post...  \n",
       "572  https://www.facebook.com/1410454029253008/post...  \n",
       "573  https://www.facebook.com/1410454029253008/post...  \n",
       "574  https://www.facebook.com/1410454029253008/post...  \n",
       "575  https://www.facebook.com/1410454029253008/post...  \n",
       "576  https://www.facebook.com/1410454029253008/post...  "
      ]
     },
     "execution_count": 63,
     "metadata": {},
     "output_type": "execute_result"
    }
   ],
   "source": [
    "data[data['source_name'].isna()]"
   ]
  },
  {
   "cell_type": "markdown",
   "id": "sealed-charity",
   "metadata": {},
   "source": [
    "All the missing values for the source name are for the country Belize which reports its statistics on Facebook. However, the Facebook links are dead, so we don't know what Facebook page it is. Let's just assign the source to just Facebook then.\n",
    "\n",
    "Note: This is a temporary fix since if we have missing sources in the future that are not from Belize Facebook pages, we will need to be more verbose in our NA fills."
   ]
  },
  {
   "cell_type": "code",
   "execution_count": 75,
   "id": "excited-software",
   "metadata": {},
   "outputs": [],
   "source": [
    "data['source_name'] = data['source_name'].fillna('Facebook')"
   ]
  },
  {
   "cell_type": "code",
   "execution_count": 76,
   "id": "closed-community",
   "metadata": {},
   "outputs": [
    {
     "data": {
      "text/plain": [
       "country                                   0\n",
       "iso_code                                  0\n",
       "date                                      0\n",
       "total_vaccinations                     1839\n",
       "people_vaccinated                      2233\n",
       "people_fully_vaccinated                3172\n",
       "daily_vaccinations_raw                 2357\n",
       "daily_vaccinations                      180\n",
       "total_vaccinations_per_hundred         1839\n",
       "people_vaccinated_per_hundred          2233\n",
       "people_fully_vaccinated_per_hundred    3172\n",
       "daily_vaccinations_per_million          180\n",
       "vaccines                                  0\n",
       "source_name                               0\n",
       "source_website                            0\n",
       "dtype: int64"
      ]
     },
     "execution_count": 76,
     "metadata": {},
     "output_type": "execute_result"
    }
   ],
   "source": [
    "data.isnull().sum()"
   ]
  },
  {
   "cell_type": "markdown",
   "id": "obvious-metabolism",
   "metadata": {},
   "source": [
    "### Quantiative Variables Missing Values"
   ]
  },
  {
   "cell_type": "code",
   "execution_count": null,
   "id": "stopped-uniform",
   "metadata": {},
   "outputs": [],
   "source": []
  }
 ],
 "metadata": {
  "kernelspec": {
   "display_name": "Python 3",
   "language": "python",
   "name": "python3"
  },
  "language_info": {
   "codemirror_mode": {
    "name": "ipython",
    "version": 3
   },
   "file_extension": ".py",
   "mimetype": "text/x-python",
   "name": "python",
   "nbconvert_exporter": "python",
   "pygments_lexer": "ipython3",
   "version": "3.8.3"
  }
 },
 "nbformat": 4,
 "nbformat_minor": 5
}
